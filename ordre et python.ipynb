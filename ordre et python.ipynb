{
 "cells": [
  {
   "cell_type": "code",
   "execution_count": 1,
   "id": "13d14074",
   "metadata": {},
   "outputs": [
    {
     "data": {
      "text/plain": [
       "True"
      ]
     },
     "execution_count": 1,
     "metadata": {},
     "output_type": "execute_result"
    }
   ],
   "source": [
    "# la fonction all s'emploie pour déterminer si tous les éléments d'un itérable (chaine, liste, tuple, dictionnaire) sont true \n",
    "all({True:1, 3:False})"
   ]
  },
  {
   "cell_type": "code",
   "execution_count": 2,
   "id": "baef95ce",
   "metadata": {},
   "outputs": [
    {
     "data": {
      "text/plain": [
       "False"
      ]
     },
     "execution_count": 2,
     "metadata": {},
     "output_type": "execute_result"
    }
   ],
   "source": [
    "all({True:1, False:3})"
   ]
  },
  {
   "cell_type": "code",
   "execution_count": 3,
   "id": "9d327d6c",
   "metadata": {},
   "outputs": [
    {
     "data": {
      "text/plain": [
       "True"
      ]
     },
     "execution_count": 3,
     "metadata": {},
     "output_type": "execute_result"
    }
   ],
   "source": [
    "all([(False, True), (1,0)])"
   ]
  },
  {
   "cell_type": "code",
   "execution_count": 4,
   "id": "127a677f",
   "metadata": {},
   "outputs": [
    {
     "data": {
      "text/plain": [
       "False"
      ]
     },
     "execution_count": 4,
     "metadata": {},
     "output_type": "execute_result"
    }
   ],
   "source": [
    "all([False, True, 0, 1])"
   ]
  },
  {
   "cell_type": "code",
   "execution_count": 12,
   "id": "b2e1b216",
   "metadata": {},
   "outputs": [],
   "source": [
    "# exercice 2 \n",
    "# on sait qu'une relation d'ordre est réflexive sur E signifie que pour tout élément x de E, on a xRx pour\n",
    "# une certaine relation binaire\n",
    "\n",
    "def estReflexive(R): # la liste est une liste de true ou false \n",
    "    return all([R(x, x) for x in E])"
   ]
  },
  {
   "cell_type": "code",
   "execution_count": 13,
   "id": "626bf3ea",
   "metadata": {},
   "outputs": [],
   "source": [
    "E = [2, 5, 3, 10, 6, 4, 8]\n",
    "def R(x, y): # renvoie true si x est multiple de y, false sinon \n",
    "    return x % y == 0"
   ]
  },
  {
   "cell_type": "code",
   "execution_count": 14,
   "id": "3211cafc",
   "metadata": {},
   "outputs": [
    {
     "data": {
      "text/plain": [
       "True"
      ]
     },
     "execution_count": 14,
     "metadata": {},
     "output_type": "execute_result"
    }
   ],
   "source": [
    "estReflexive(R)"
   ]
  },
  {
   "cell_type": "code",
   "execution_count": 17,
   "id": "6d4b1d97",
   "metadata": {},
   "outputs": [
    {
     "data": {
      "text/plain": [
       "True"
      ]
     },
     "execution_count": 17,
     "metadata": {},
     "output_type": "execute_result"
    }
   ],
   "source": [
    "R(8, 2)"
   ]
  },
  {
   "cell_type": "code",
   "execution_count": 18,
   "id": "8e9d740a",
   "metadata": {},
   "outputs": [],
   "source": [
    "# fonction anonyme ou lambda \n",
    "# les fonctions lambda s'emploie pour définir des mini fonctions à la volée. \n",
    "# la syntaxe est condensée : pas de parenthèse, return implicite, pas de nom parfois "
   ]
  },
  {
   "cell_type": "code",
   "execution_count": 19,
   "id": "d2489ba0",
   "metadata": {},
   "outputs": [],
   "source": [
    "# réécrire un code pour pour n'utiliser qu'une fonction lambda \n",
    "\n",
    "def derl(mot):\n",
    "    return mot[-1]"
   ]
  },
  {
   "cell_type": "code",
   "execution_count": 20,
   "id": "ccbc92d8",
   "metadata": {},
   "outputs": [
    {
     "data": {
      "text/plain": [
       "'e'"
      ]
     },
     "execution_count": 20,
     "metadata": {},
     "output_type": "execute_result"
    }
   ],
   "source": [
    "derl(\"je\")"
   ]
  },
  {
   "cell_type": "code",
   "execution_count": 21,
   "id": "3ca6ea95",
   "metadata": {},
   "outputs": [
    {
     "name": "stdout",
     "output_type": "stream",
     "text": [
      "le mot lapin se termine par n\n"
     ]
    }
   ],
   "source": [
    "m = \"lapin\"\n",
    "print(\"le mot\", m, \"se termine par\", derl(m))"
   ]
  },
  {
   "cell_type": "code",
   "execution_count": 32,
   "id": "f96703d5",
   "metadata": {},
   "outputs": [
    {
     "name": "stdout",
     "output_type": "stream",
     "text": [
      "le mot lapin se termine par ['lapin']\n"
     ]
    }
   ],
   "source": [
    "m = \"lapin\"\n",
    "print(\"le mot\", m, \"se termine par\", (lambda x : x.split())(m))"
   ]
  },
  {
   "cell_type": "code",
   "execution_count": 34,
   "id": "356626af",
   "metadata": {},
   "outputs": [
    {
     "name": "stdout",
     "output_type": "stream",
     "text": [
      "le mot  je suis une phrase est découpé de la sorte :  ['je', 'suis', 'une', 'phrase']\n"
     ]
    }
   ],
   "source": [
    "m = \"je suis une phrase\"\n",
    "print(\"le mot \", m, \"est découpé de la sorte : \", (lambda x:x.split())(m))"
   ]
  },
  {
   "cell_type": "code",
   "execution_count": 35,
   "id": "c79f1853",
   "metadata": {},
   "outputs": [
    {
     "name": "stdout",
     "output_type": "stream",
     "text": [
      "le$rat$et$la$souris\n"
     ]
    }
   ],
   "source": [
    "def changsep(s): \n",
    "    s = s.split()\n",
    "    return \"$\".join(s)\n",
    "p = \"le rat et la souris\"\n",
    "print(changsep(p))"
   ]
  },
  {
   "cell_type": "code",
   "execution_count": 42,
   "id": "cf7d7650",
   "metadata": {},
   "outputs": [
    {
     "name": "stdout",
     "output_type": "stream",
     "text": [
      "le$rat$et$la$souris\n"
     ]
    }
   ],
   "source": [
    "p = \"le rat et la souris\"\n",
    "print((lambda s : \"$\".join(s.split()))(p))"
   ]
  },
  {
   "cell_type": "code",
   "execution_count": 43,
   "id": "1d81f69a",
   "metadata": {},
   "outputs": [],
   "source": [
    "# classes et méthodes\n",
    "# le mot-clé pour la création est class. une classe consiste à construire une fabrique d'objets, objets \n",
    "# qui répond à nos attentes. \n",
    "# une classe contient très souvent très souvent une méthode spécialiste __init__() qui est exécutée automatiquement \n",
    "# lorsqu'on créé un objet \n",
    "# les variables attachées à l'objet créé s'appelle ses attributs, et les fonctionnalités (fonctions définies dans )\n",
    "# la classe liées ) l'objet sont ses méthodes \n",
    "# le premier argument de toute méthode"
   ]
  },
  {
   "cell_type": "code",
   "execution_count": 60,
   "id": "212acb0b",
   "metadata": {},
   "outputs": [
    {
     "name": "stdout",
     "output_type": "stream",
     "text": [
      "Bonjour, je m'appelle arthur\n",
      "119.1\n",
      "True\n"
     ]
    }
   ],
   "source": [
    "# certaines méthodes sont surchargées \n",
    "\n",
    "class humain:\n",
    "    def __init__(self, prenom, poids, taille, age):\n",
    "        self.pnom = prenom\n",
    "        self.pds = poids\n",
    "        self.t = taille\n",
    "        self.age = age\n",
    "    def __repr__(self):\n",
    "        return \"Bonjour, je m'appelle \" + self.pnom\n",
    "    def __add__(self, other):\n",
    "        return self.pds + other.pds\n",
    "    def __lt__(self, other):\n",
    "        return self.t < other.t\n",
    "    def __gt__(self, other):\n",
    "        return self.t > other.t\n",
    "    def carte(self):\n",
    "        print(\"carte d'identité : \")\n",
    "        print(\"je suis \", self.pnom)\n",
    "        print(\"j'ai \", self.age)\n",
    "        print(\"je pèse\", self.pds, \"kg\")\n",
    "        print(\"je mesure\", self.t, \"m\")\n",
    "    \n",
    "h1 = humain(\"arthur\", 69.1, 1.7, 25)\n",
    "h2 = humain(\"betty\", 50, 1.6, 6.23)\n",
    "h3 = humain(\"carl\", 75, 1.8, 24)\n",
    "    \n",
    "print(h1)\n",
    "print(h1 + h2)\n",
    "print(h3 > h1)"
   ]
  },
  {
   "cell_type": "code",
   "execution_count": 61,
   "id": "48e0068e",
   "metadata": {},
   "outputs": [
    {
     "name": "stdout",
     "output_type": "stream",
     "text": [
      "carte d'identité : \n",
      "je suis  carl\n",
      "j'ai  24\n",
      "je pèse 75 kg\n",
      "je mesure 1.8 m\n"
     ]
    }
   ],
   "source": [
    "h3.carte()"
   ]
  },
  {
   "cell_type": "code",
   "execution_count": 62,
   "id": "41611d9b",
   "metadata": {},
   "outputs": [
    {
     "name": "stdout",
     "output_type": "stream",
     "text": [
      "True\n"
     ]
    }
   ],
   "source": [
    "print(4 < 6)"
   ]
  },
  {
   "cell_type": "code",
   "execution_count": 63,
   "id": "9a6db298",
   "metadata": {},
   "outputs": [
    {
     "name": "stdout",
     "output_type": "stream",
     "text": [
      "False\n"
     ]
    }
   ],
   "source": [
    "print(\"a\" > \"z\")"
   ]
  },
  {
   "cell_type": "code",
   "execution_count": 64,
   "id": "847674c5",
   "metadata": {},
   "outputs": [
    {
     "name": "stdout",
     "output_type": "stream",
     "text": [
      "False\n"
     ]
    }
   ],
   "source": [
    "print(\"arbri\" <= \"abriter\")"
   ]
  },
  {
   "cell_type": "code",
   "execution_count": 65,
   "id": "a52c321e",
   "metadata": {},
   "outputs": [
    {
     "name": "stdout",
     "output_type": "stream",
     "text": [
      "True\n"
     ]
    }
   ],
   "source": [
    "print([1, 2] < [3, 5])"
   ]
  },
  {
   "cell_type": "code",
   "execution_count": 66,
   "id": "b5bb6c16",
   "metadata": {},
   "outputs": [
    {
     "name": "stdout",
     "output_type": "stream",
     "text": [
      "False\n"
     ]
    }
   ],
   "source": [
    "print([1, 5] < [1, 4])"
   ]
  },
  {
   "cell_type": "code",
   "execution_count": 67,
   "id": "dd46c843",
   "metadata": {},
   "outputs": [
    {
     "name": "stdout",
     "output_type": "stream",
     "text": [
      "True\n"
     ]
    }
   ],
   "source": [
    "print((1, 2, 3) < (1, 2, 6))"
   ]
  },
  {
   "cell_type": "code",
   "execution_count": 68,
   "id": "eaefc9e8",
   "metadata": {},
   "outputs": [
    {
     "name": "stdout",
     "output_type": "stream",
     "text": [
      "[1, 2, 3, 4, 7, 8]\n"
     ]
    }
   ],
   "source": [
    "l = [3, 1, 7, 4, 2, 8]\n",
    "l.sort()\n",
    "print(l)"
   ]
  },
  {
   "cell_type": "code",
   "execution_count": 71,
   "id": "732bc3df",
   "metadata": {},
   "outputs": [
    {
     "name": "stdout",
     "output_type": "stream",
     "text": [
      "['test1', 'test2']\n"
     ]
    }
   ],
   "source": [
    "dico = {\"test2\":2, \"test1\":1}\n",
    "print(sorted(dico))"
   ]
  },
  {
   "cell_type": "code",
   "execution_count": 75,
   "id": "fdae8c87",
   "metadata": {},
   "outputs": [
    {
     "name": "stdout",
     "output_type": "stream",
     "text": [
      "[1, 2, 3, 4, 7, 8]\n"
     ]
    }
   ],
   "source": [
    "l = [3, 1, 7, 4, 2, 8]\n",
    "l.sort(reverse=False)\n",
    "print(l)"
   ]
  },
  {
   "cell_type": "code",
   "execution_count": 76,
   "id": "4bf5b8e1",
   "metadata": {},
   "outputs": [
    {
     "name": "stdout",
     "output_type": "stream",
     "text": [
      "['cheval', 'cochon', 'lapin', 'poule', 'vache']\n"
     ]
    }
   ],
   "source": [
    "# le paramètre key est très important car il est permet de spécifier une clé de tri \n",
    "ferme = {\"cochon\":5, \"vache\":17, \"lapin\":12, \"poule\":8, \"cheval\":2}\n",
    "print(sorted(ferme))"
   ]
  },
  {
   "cell_type": "code",
   "execution_count": 77,
   "id": "caa29856",
   "metadata": {},
   "outputs": [
    {
     "name": "stdout",
     "output_type": "stream",
     "text": [
      "dict_items([('cochon', 5), ('vache', 17), ('lapin', 12), ('poule', 8), ('cheval', 2)])\n"
     ]
    }
   ],
   "source": [
    "# si l'on veut un tri sur le nombre d'animal, c'est le que le paramètre key est important\n",
    "print(ferme.items())"
   ]
  },
  {
   "cell_type": "code",
   "execution_count": 78,
   "id": "bfea42a6",
   "metadata": {},
   "outputs": [
    {
     "name": "stdout",
     "output_type": "stream",
     "text": [
      "animal :  cochon nombre :  5\n",
      "animal :  vache nombre :  17\n",
      "animal :  lapin nombre :  12\n",
      "animal :  poule nombre :  8\n",
      "animal :  cheval nombre :  2\n"
     ]
    }
   ],
   "source": [
    "for cle, val in ferme.items():\n",
    "    print(\"animal : \", cle, \"nombre : \", val)"
   ]
  },
  {
   "cell_type": "code",
   "execution_count": 79,
   "id": "a5f14ebf",
   "metadata": {},
   "outputs": [
    {
     "data": {
      "text/plain": [
       "[('cheval', 2), ('cochon', 5), ('poule', 8), ('lapin', 12), ('vache', 17)]"
      ]
     },
     "execution_count": 79,
     "metadata": {},
     "output_type": "execute_result"
    }
   ],
   "source": [
    "# voici ce qu'il faut faire pour trier les valeurs du dictionnaire \n",
    "def nbAnimaux(elt):\n",
    "    return elt[1]\n",
    "\n",
    "sorted(ferme.items(), key=nbAnimaux)"
   ]
  },
  {
   "cell_type": "code",
   "execution_count": 80,
   "id": "c63e572b",
   "metadata": {},
   "outputs": [
    {
     "data": {
      "text/plain": [
       "[-2, 3, -4, 5, 6, -7]"
      ]
     },
     "execution_count": 80,
     "metadata": {},
     "output_type": "execute_result"
    }
   ],
   "source": [
    "L = [5, -4, 3, -2, -7, 6]\n",
    "sorted(L, key=lambda x:x**2)"
   ]
  },
  {
   "cell_type": "code",
   "execution_count": 81,
   "id": "6215d845",
   "metadata": {},
   "outputs": [
    {
     "name": "stdout",
     "output_type": "stream",
     "text": [
      "[Bonjour, je m'appelle betty, Bonjour, je m'appelle carl, Bonjour, je m'appelle arthur]\n"
     ]
    }
   ],
   "source": [
    "L = [h1, h2, h3]\n",
    "print(sorted(L, key= lambda x:x.age)) "
   ]
  },
  {
   "cell_type": "code",
   "execution_count": 84,
   "id": "b4fb32b3",
   "metadata": {},
   "outputs": [
    {
     "name": "stdout",
     "output_type": "stream",
     "text": [
      "9\n"
     ]
    }
   ],
   "source": [
    "# le module operator \n",
    "from operator import getitem, itemgetter, attrgetter\n",
    "L = [5, 2, 1, 8, 9, 6, 4]\n",
    "res = getitem(L, 4)\n",
    "print(res)"
   ]
  },
  {
   "cell_type": "code",
   "execution_count": 85,
   "id": "68608186",
   "metadata": {},
   "outputs": [],
   "source": [
    "L = [[1, 2, 3], [5, 8, 4], [2, 9, 6]]\n",
    "troiselt = itemgetter(2)"
   ]
  },
  {
   "cell_type": "code",
   "execution_count": 88,
   "id": "7eecb502",
   "metadata": {},
   "outputs": [
    {
     "name": "stdout",
     "output_type": "stream",
     "text": [
      "[2, 9, 6]\n"
     ]
    }
   ],
   "source": [
    "print(troiselt(L))"
   ]
  },
  {
   "cell_type": "code",
   "execution_count": 89,
   "id": "84d682b8",
   "metadata": {},
   "outputs": [
    {
     "data": {
      "text/plain": [
       "1.7"
      ]
     },
     "execution_count": 89,
     "metadata": {},
     "output_type": "execute_result"
    }
   ],
   "source": [
    "# récupérer les valeurs d'un attribut \n",
    "recup_taille = attrgetter(\"t\")\n",
    "recup_taille(h1)"
   ]
  },
  {
   "cell_type": "code",
   "execution_count": 90,
   "id": "66372507",
   "metadata": {},
   "outputs": [
    {
     "data": {
      "text/plain": [
       "['coq', 'chat', 'lapin', 'chameau', 'éléphant', 'rhinocéros']"
      ]
     },
     "execution_count": 90,
     "metadata": {},
     "output_type": "execute_result"
    }
   ],
   "source": [
    "# cmp to key, encapsuler une fonction de comparaison \n",
    "# une fonction de comparaison renvoie un positif si un certain nombre est obtenu, un négatif sinon\n",
    "# 0 en cas d'égalité \n",
    "\n",
    "def comp(ch1, ch2):\n",
    "    if len(ch1) > len(ch2):\n",
    "        return 1\n",
    "    elif len(ch1) < len(ch2):\n",
    "        return -1\n",
    "    else:\n",
    "        return 0\n",
    "from functools import cmp_to_key\n",
    "L = [\"lapin\", \"chameau\", \"rhinocéros\", \"coq\", \"chat\", \"éléphant\"]\n",
    "sorted(L, key=cmp_to_key(comp))"
   ]
  },
  {
   "cell_type": "code",
   "execution_count": null,
   "id": "449cd0f1",
   "metadata": {},
   "outputs": [],
   "source": []
  }
 ],
 "metadata": {
  "kernelspec": {
   "display_name": "Python 3 (ipykernel)",
   "language": "python",
   "name": "python3"
  },
  "language_info": {
   "codemirror_mode": {
    "name": "ipython",
    "version": 3
   },
   "file_extension": ".py",
   "mimetype": "text/x-python",
   "name": "python",
   "nbconvert_exporter": "python",
   "pygments_lexer": "ipython3",
   "version": "3.10.9"
  }
 },
 "nbformat": 4,
 "nbformat_minor": 5
}
