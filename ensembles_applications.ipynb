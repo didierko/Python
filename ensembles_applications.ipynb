{
 "cells": [
  {
   "cell_type": "code",
   "execution_count": 3,
   "id": "e8d2b50d",
   "metadata": {},
   "outputs": [],
   "source": [
    "L = ['chat', 'chien', 'poule', 'coq', 'vache',\n",
    "    'veau', 'lapin', 'cheval', 'poussin', 'pintade',\n",
    "    'oie', 'cochon', 'âne', 'mulet', 'canard', 'pigeon',\n",
    "    'caille', 'chèvre']"
   ]
  },
  {
   "cell_type": "code",
   "execution_count": 4,
   "id": "58857258",
   "metadata": {},
   "outputs": [],
   "source": [
    "# créer une fonction nettoie qui prend en argument une liste de mots et qui renvoie cette liste sans aucun accent ou cédille"
   ]
  },
  {
   "cell_type": "code",
   "execution_count": 5,
   "id": "8258ee4c",
   "metadata": {},
   "outputs": [],
   "source": [
    "def nettoie(liste):\n",
    "    \"\"\"renvoie la liste sans aucun accent ou cédille\"\"\"\n",
    "    lettres_accents = \"éèëêùûàâïîôç\"\n",
    "    lettres_sans_accents = \"eeeeuuaaiioc\"\n",
    "    # dictionnaire \n",
    "    remplacements = dict(zip(lettres_accents, lettres_sans_accents))\n",
    "    \n",
    "    liste_nettoyee = list()\n",
    "    for mot in liste:\n",
    "        mot_nettoye = mot\n",
    "        for accent, sans_accent in remplacements.items():\n",
    "            mot_nettoye = mot_nettoye.replace(accent, sans_accent)\n",
    "        liste_nettoyee.append(mot_nettoye)\n",
    "    return liste_nettoyee"
   ]
  },
  {
   "cell_type": "code",
   "execution_count": 6,
   "id": "5a3fbbf3",
   "metadata": {},
   "outputs": [
    {
     "data": {
      "text/plain": [
       "['chat',\n",
       " 'chien',\n",
       " 'poule',\n",
       " 'coq',\n",
       " 'vache',\n",
       " 'veau',\n",
       " 'lapin',\n",
       " 'cheval',\n",
       " 'poussin',\n",
       " 'pintade',\n",
       " 'oie',\n",
       " 'cochon',\n",
       " 'ane',\n",
       " 'mulet',\n",
       " 'canard',\n",
       " 'pigeon',\n",
       " 'caille',\n",
       " 'chevre']"
      ]
     },
     "execution_count": 6,
     "metadata": {},
     "output_type": "execute_result"
    }
   ],
   "source": [
    "nettoie(L)"
   ]
  },
  {
   "cell_type": "code",
   "execution_count": 7,
   "id": "55820d16",
   "metadata": {},
   "outputs": [],
   "source": [
    "# créer par compréhension deux listes L1 et L2 qui contiennent les mots de L qui ont respectivemet \n",
    "# pour longueur 4 ou moins pour la première liste \n",
    "# et plus de 4 pour la seconde "
   ]
  },
  {
   "cell_type": "code",
   "execution_count": 8,
   "id": "d2765832",
   "metadata": {},
   "outputs": [
    {
     "name": "stdout",
     "output_type": "stream",
     "text": [
      "['chat', 'chien', 'poule', 'coq', 'vache', 'veau', 'lapin', 'cheval', 'poussin', 'pintade', 'oie', 'cochon', 'âne', 'mulet', 'canard', 'pigeon', 'caille', 'chèvre']\n"
     ]
    }
   ],
   "source": [
    "print(L)"
   ]
  },
  {
   "cell_type": "code",
   "execution_count": 21,
   "id": "04f82124",
   "metadata": {},
   "outputs": [],
   "source": [
    "L1 = [i for i in L if len(i) < 4]\n",
    "L2 = [x for x in L if len(x) > 4]"
   ]
  },
  {
   "cell_type": "code",
   "execution_count": 22,
   "id": "0c6cf881",
   "metadata": {},
   "outputs": [
    {
     "name": "stdout",
     "output_type": "stream",
     "text": [
      "Première liste :  ['coq', 'oie', 'âne']\n",
      "Deuxième liste :  ['chien', 'poule', 'vache', 'lapin', 'cheval', 'poussin', 'pintade', 'cochon', 'mulet', 'canard', 'pigeon', 'caille', 'chèvre']\n"
     ]
    }
   ],
   "source": [
    "print(\"Première liste : \", L1)\n",
    "print(\"Deuxième liste : \", L2)"
   ]
  },
  {
   "cell_type": "code",
   "execution_count": 23,
   "id": "7aa22aae",
   "metadata": {},
   "outputs": [],
   "source": [
    "# trier ces 2 listes par ordre alphabétique\n",
    "# de la façon la plus simple supprimer le dernier élément \n",
    "# de L2 que vous placerez dans L1"
   ]
  },
  {
   "cell_type": "code",
   "execution_count": 35,
   "id": "b5a86af1",
   "metadata": {},
   "outputs": [
    {
     "name": "stdout",
     "output_type": "stream",
     "text": [
      "['coq', 'oie', 'âne', 'caille']\n"
     ]
    }
   ],
   "source": [
    "L1.append(L2.pop())\n",
    "print(L1)"
   ]
  },
  {
   "cell_type": "code",
   "execution_count": 39,
   "id": "796d95f4",
   "metadata": {},
   "outputs": [],
   "source": [
    "# créer une liste L3 des éléments de L2 d'indice 2 à 7\n",
    "L3 = []\n",
    "L3.append(L2[2:8])"
   ]
  },
  {
   "cell_type": "code",
   "execution_count": 40,
   "id": "a5ef2434",
   "metadata": {},
   "outputs": [
    {
     "name": "stdout",
     "output_type": "stream",
     "text": [
      "[['vache', 'lapin', 'cheval', 'poussin', 'pintade', 'cochon']]\n"
     ]
    }
   ],
   "source": [
    "print(L3)"
   ]
  },
  {
   "cell_type": "code",
   "execution_count": 41,
   "id": "27b65a79",
   "metadata": {},
   "outputs": [],
   "source": [
    "# créer la liste L4 des tuples dont le premier élément \n",
    "# est pris dans L2 et le deuxième élément dans L3"
   ]
  },
  {
   "cell_type": "code",
   "execution_count": 42,
   "id": "7a1dd067",
   "metadata": {},
   "outputs": [
    {
     "name": "stdout",
     "output_type": "stream",
     "text": [
      "[('coq', ['vache', 'lapin', 'cheval', 'poussin', 'pintade', 'cochon'])]\n"
     ]
    }
   ],
   "source": [
    "L4 = list(zip(L1, L3))\n",
    "print(L4)"
   ]
  },
  {
   "cell_type": "code",
   "execution_count": 43,
   "id": "64494bbc",
   "metadata": {},
   "outputs": [],
   "source": [
    "# 2 "
   ]
  },
  {
   "cell_type": "code",
   "execution_count": 44,
   "id": "a8b113cf",
   "metadata": {},
   "outputs": [],
   "source": [
    "# soit t1 et t2 les textes suivants \n",
    "t1 = \"L'élève sort de l'être du maître à penser, Noel un jour sera sien ?\"\n",
    "t2 = \"Où l'acquis est dûment haï !\""
   ]
  },
  {
   "cell_type": "code",
   "execution_count": 45,
   "id": "524e86bb",
   "metadata": {},
   "outputs": [],
   "source": [
    "# construire le texte t concaténation des textes t1 et t2"
   ]
  },
  {
   "cell_type": "code",
   "execution_count": 62,
   "id": "ad34c467",
   "metadata": {},
   "outputs": [
    {
     "name": "stdout",
     "output_type": "stream",
     "text": [
      "L'élève sort de l'être du maître à penser, Noel un jour sera sien ? Où l'acquis est dûment haï !\n"
     ]
    }
   ],
   "source": [
    "t = t1 + \" \" +t2\n",
    "print(t)"
   ]
  },
  {
   "cell_type": "code",
   "execution_count": 63,
   "id": "28b3ff84",
   "metadata": {},
   "outputs": [],
   "source": [
    "# passer le texte t en miniscule et se débarasser de toute la ponctuation\n",
    "\n",
    "t_miniscule = t.lower()"
   ]
  },
  {
   "cell_type": "code",
   "execution_count": 71,
   "id": "709dcd44",
   "metadata": {},
   "outputs": [
    {
     "name": "stdout",
     "output_type": "stream",
     "text": [
      "l élève sort de l être du maître à penser  noel un jour sera sien   où l acquis est dûment haï  \n"
     ]
    }
   ],
   "source": [
    "import string \n",
    "for elt in t_miniscule:\n",
    "    if elt in string.punctuation and autres:\n",
    "        t_miniscule = t_miniscule.replace(elt, \" \")\n",
    "print(t_miniscule)"
   ]
  },
  {
   "cell_type": "code",
   "execution_count": 79,
   "id": "9b21904c",
   "metadata": {},
   "outputs": [],
   "source": [
    "# se débarrasser de tous les accents et autres\n",
    "# caractères non anglais \n",
    "t = t_miniscule.translate(t_miniscule.maketrans(\"éèëêùûàâïîôç\",\"eeeeuuaaiioc\"))"
   ]
  },
  {
   "cell_type": "code",
   "execution_count": 80,
   "id": "e459ea4a",
   "metadata": {},
   "outputs": [
    {
     "name": "stdout",
     "output_type": "stream",
     "text": [
      "l eleve sort de l etre du maitre a penser  noel un jour sera sien   ou l acquis est dument hai  \n"
     ]
    }
   ],
   "source": [
    "print(t)"
   ]
  },
  {
   "cell_type": "code",
   "execution_count": 82,
   "id": "268ca4ee",
   "metadata": {},
   "outputs": [
    {
     "name": "stdout",
     "output_type": "stream",
     "text": [
      "l eleve sort de l etre du maitre a penser noel un jour sera sien ou l acquis est dument hai \n"
     ]
    }
   ],
   "source": [
    "while \"  \" in t:\n",
    "    t = t.replace(\"  \", \" \")\n",
    "print(t)"
   ]
  },
  {
   "cell_type": "code",
   "execution_count": 90,
   "id": "f0fda652",
   "metadata": {},
   "outputs": [
    {
     "name": "stdout",
     "output_type": "stream",
     "text": [
      "['l', 'eleve', 'sort', 'de', 'l', 'etre', 'du', 'maitre', 'a', 'penser', 'noel', 'un', 'jour', 'sera', 'sien', 'ou', 'l', 'acquis', 'est', 'dument', 'hai']\n"
     ]
    }
   ],
   "source": [
    "# Lmots la liste des mots\n",
    "Lmots = t.split()\n",
    "print(Lmots)"
   ]
  },
  {
   "cell_type": "code",
   "execution_count": 91,
   "id": "b2f9dc20",
   "metadata": {},
   "outputs": [],
   "source": [
    "# nettoyer Lmots de la liste des mots vides suivants\n",
    "Lvide = ['l', 'le', 'la', 'les', 'de', 'des', 'du', 'un', 'ou', 'est', 'a']\n",
    "Lmots = [mot for mot in Lmots if mot not in Lvide]"
   ]
  },
  {
   "cell_type": "code",
   "execution_count": 92,
   "id": "69895c62",
   "metadata": {},
   "outputs": [
    {
     "name": "stdout",
     "output_type": "stream",
     "text": [
      "['eleve', 'sort', 'etre', 'maitre', 'penser', 'noel', 'jour', 'sera', 'sien', 'acquis', 'dument', 'hai']\n"
     ]
    }
   ],
   "source": [
    "print(Lmots)"
   ]
  },
  {
   "cell_type": "code",
   "execution_count": 93,
   "id": "7a53776a",
   "metadata": {},
   "outputs": [],
   "source": [
    "# ajouter à la liste Lmots obtenue, la liste Ajout\n",
    "\n",
    "Ajout = ['eleve', 'jour', 'penser', 'eleve', 'noel', 'eleve', 'penser']\n",
    "Lmots.extend(Ajout)"
   ]
  },
  {
   "cell_type": "code",
   "execution_count": 94,
   "id": "2e6f8c5b",
   "metadata": {},
   "outputs": [
    {
     "name": "stdout",
     "output_type": "stream",
     "text": [
      "['eleve', 'sort', 'etre', 'maitre', 'penser', 'noel', 'jour', 'sera', 'sien', 'acquis', 'dument', 'hai', 'eleve', 'jour', 'penser', 'eleve', 'noel', 'eleve', 'penser']\n"
     ]
    }
   ],
   "source": [
    "print(Lmots)"
   ]
  },
  {
   "cell_type": "code",
   "execution_count": 96,
   "id": "8d7f9681",
   "metadata": {},
   "outputs": [],
   "source": [
    "# construire la liste unique des mots du vocabulaire"
   ]
  },
  {
   "cell_type": "code",
   "execution_count": 101,
   "id": "ef7eead8",
   "metadata": {},
   "outputs": [
    {
     "name": "stdout",
     "output_type": "stream",
     "text": [
      "['eleve', 'sort', 'etre', 'maitre', 'penser', 'noel', 'jour', 'sera', 'sien', 'acquis', 'dument', 'hai']\n"
     ]
    }
   ],
   "source": [
    "unique = []\n",
    "for mot in Lmots:\n",
    "    if mot not in unique:\n",
    "        unique.append(mot)\n",
    "print(unique)"
   ]
  },
  {
   "cell_type": "code",
   "execution_count": 104,
   "id": "362a412c",
   "metadata": {},
   "outputs": [
    {
     "name": "stdout",
     "output_type": "stream",
     "text": [
      "[(4, 'eleve'), (1, 'sort'), (1, 'etre'), (1, 'maitre'), (3, 'penser'), (2, 'noel'), (2, 'jour'), (1, 'sera'), (1, 'sien'), (1, 'acquis'), (1, 'dument'), (1, 'hai')]\n",
      "[(1, 'sien'), (1, 'acquis'), (1, 'dument'), (1, 'hai')]\n"
     ]
    }
   ],
   "source": [
    "Lfreq = [(Lmots.count(mot), mot) for mot in unique]\n",
    "print(Lfreq)\n",
    "print(Lfreq[-4:])"
   ]
  },
  {
   "cell_type": "code",
   "execution_count": 105,
   "id": "96477f4c",
   "metadata": {},
   "outputs": [],
   "source": [
    "# dictionnaires "
   ]
  },
  {
   "cell_type": "code",
   "execution_count": 106,
   "id": "f35b3558",
   "metadata": {},
   "outputs": [],
   "source": [
    "# créer un dictionnaire de nom dico dont les clés sont les noms des animaux \n",
    "# et  les valeurs associées la longueur du mot "
   ]
  },
  {
   "cell_type": "code",
   "execution_count": 107,
   "id": "1410e520",
   "metadata": {},
   "outputs": [
    {
     "name": "stdout",
     "output_type": "stream",
     "text": [
      "{'chat': 4, 'chien': 5, 'poule': 5, 'coq': 3, 'vache': 5, 'veau': 4, 'lapin': 5, 'cheval': 6, 'poussin': 7, 'pintade': 7, 'oie': 3, 'cochon': 6, 'âne': 3, 'mulet': 5, 'canard': 6, 'pigeon': 6, 'caille': 6, 'chèvre': 6}\n"
     ]
    }
   ],
   "source": [
    "dico1 = {animo:len(animo) for animo in L}\n",
    "print(dico1)"
   ]
  },
  {
   "cell_type": "code",
   "execution_count": null,
   "id": "cb89e437",
   "metadata": {},
   "outputs": [],
   "source": []
  }
 ],
 "metadata": {
  "kernelspec": {
   "display_name": "Python 3 (ipykernel)",
   "language": "python",
   "name": "python3"
  },
  "language_info": {
   "codemirror_mode": {
    "name": "ipython",
    "version": 3
   },
   "file_extension": ".py",
   "mimetype": "text/x-python",
   "name": "python",
   "nbconvert_exporter": "python",
   "pygments_lexer": "ipython3",
   "version": "3.11.5"
  }
 },
 "nbformat": 4,
 "nbformat_minor": 5
}
