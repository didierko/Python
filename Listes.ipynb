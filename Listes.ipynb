{
 "cells": [
  {
   "cell_type": "code",
   "execution_count": 1,
   "id": "e8d2b50d",
   "metadata": {},
   "outputs": [],
   "source": [
    "L = ['chat', 'chien', 'poule', 'coq', 'vache',\n",
    "    'veau', 'lapin', 'cheval', 'poussin', 'pintade',\n",
    "    'oie', 'cochon', 'âne', 'mulet', 'canard', 'pigeon',\n",
    "    'caille', 'chèvre']"
   ]
  },
  {
   "cell_type": "code",
   "execution_count": 2,
   "id": "58857258",
   "metadata": {},
   "outputs": [],
   "source": [
    "# créer une fonction nettoie qui prend en argument une liste de mots et qui renvoie cette liste sans aucun accent ou cédille"
   ]
  },
  {
   "cell_type": "code",
   "execution_count": 6,
   "id": "8258ee4c",
   "metadata": {},
   "outputs": [],
   "source": [
    "def nettoie(liste):\n",
    "    \"\"\"renvoie la liste sans aucun accent ou cédille\"\"\"\n",
    "    lettres_accents = \"éèëêùûàâïîôç\"\n",
    "    lettres_sans_accents = \"eeeeuuaaiioc\"\n",
    "    # dictionnaire \n",
    "    remplacements = dict(zip(lettres_accents, lettres_sans_accents))\n",
    "    \n",
    "    liste_nettoyee = list()\n",
    "    for mot in liste:\n",
    "        mot_nettoye = mot\n",
    "        for accent, sans_accent in remplacements.items():\n",
    "            mot_nettoye = mot_nettoye.replace(accent, sans_accent)\n",
    "        liste_nettoyee.append(mot_nettoye)\n",
    "    return liste_nettoyee"
   ]
  },
  {
   "cell_type": "code",
   "execution_count": 7,
   "id": "5a3fbbf3",
   "metadata": {},
   "outputs": [
    {
     "data": {
      "text/plain": [
       "['chat',\n",
       " 'chien',\n",
       " 'poule',\n",
       " 'coq',\n",
       " 'vache',\n",
       " 'veau',\n",
       " 'lapin',\n",
       " 'cheval',\n",
       " 'poussin',\n",
       " 'pintade',\n",
       " 'oie',\n",
       " 'cochon',\n",
       " 'ane',\n",
       " 'mulet',\n",
       " 'canard',\n",
       " 'pigeon',\n",
       " 'caille',\n",
       " 'chevre']"
      ]
     },
     "execution_count": 7,
     "metadata": {},
     "output_type": "execute_result"
    }
   ],
   "source": [
    "nettoie(L)"
   ]
  },
  {
   "cell_type": "code",
   "execution_count": null,
   "id": "55820d16",
   "metadata": {},
   "outputs": [],
   "source": []
  }
 ],
 "metadata": {
  "kernelspec": {
   "display_name": "Python 3 (ipykernel)",
   "language": "python",
   "name": "python3"
  },
  "language_info": {
   "codemirror_mode": {
    "name": "ipython",
    "version": 3
   },
   "file_extension": ".py",
   "mimetype": "text/x-python",
   "name": "python",
   "nbconvert_exporter": "python",
   "pygments_lexer": "ipython3",
   "version": "3.11.5"
  }
 },
 "nbformat": 4,
 "nbformat_minor": 5
}
